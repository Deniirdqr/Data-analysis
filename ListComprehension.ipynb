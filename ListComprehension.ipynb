{
 "cells": [
  {
   "cell_type": "code",
   "execution_count": 4,
   "id": "6816a3b1",
   "metadata": {},
   "outputs": [
    {
     "name": "stdout",
     "output_type": "stream",
     "text": [
      "Python version  3.9.13\n"
     ]
    }
   ],
   "source": [
    "#\"expressão\" for \"item\" in \"iterable\" if \"condição\" == True\n",
    "from platform import python_version\n",
    "print('Python version ', python_version())"
   ]
  },
  {
   "cell_type": "code",
   "execution_count": 5,
   "id": "41565d4c",
   "metadata": {},
   "outputs": [],
   "source": [
    "list_numbers = [x for x in range(10)]"
   ]
  },
  {
   "cell_type": "code",
   "execution_count": 6,
   "id": "fc2693ce",
   "metadata": {},
   "outputs": [
    {
     "name": "stdout",
     "output_type": "stream",
     "text": [
      "[0, 1, 2, 3, 4, 5, 6, 7, 8, 9]\n"
     ]
    }
   ],
   "source": [
    "print(list_numbers)"
   ]
  },
  {
   "cell_type": "code",
   "execution_count": 8,
   "id": "1753676a",
   "metadata": {},
   "outputs": [
    {
     "name": "stdout",
     "output_type": "stream",
     "text": [
      "[0, 1, 2, 3, 4, 5]\n"
     ]
    }
   ],
   "source": [
    "listNumbers = [x for x in range(10) if x < 6]\n",
    "print(listNumbers)"
   ]
  },
  {
   "cell_type": "code",
   "execution_count": 1,
   "id": "c744f8eb",
   "metadata": {},
   "outputs": [],
   "source": [
    "fruitList = [\"banana\", \"abocado\" , \"Melon\", \"Blueberry\"]\n",
    "\n",
    "newList = []"
   ]
  },
  {
   "cell_type": "code",
   "execution_count": 3,
   "id": "45b27533",
   "metadata": {},
   "outputs": [
    {
     "name": "stdout",
     "output_type": "stream",
     "text": [
      "['Melon']\n"
     ]
    }
   ],
   "source": [
    "#Case sensitive BB\n",
    "for x in fruitList:\n",
    "    if \"M\" in x:\n",
    "        newList.append(x)\n",
    "        \n",
    "print(newList)"
   ]
  },
  {
   "cell_type": "code",
   "execution_count": 4,
   "id": "32ea2fbb",
   "metadata": {},
   "outputs": [
    {
     "name": "stdout",
     "output_type": "stream",
     "text": [
      "['Melon']\n"
     ]
    }
   ],
   "source": [
    "#Faz a mesma coisa que a de cima com menos código\n",
    "newList = [x for x in fruitList if \"M\" in x]\n",
    "print(newList)"
   ]
  },
  {
   "cell_type": "code",
   "execution_count": 7,
   "id": "d1e1563a",
   "metadata": {},
   "outputs": [
    {
     "name": "stdout",
     "output_type": "stream",
     "text": [
      "{'Bob': 86, 'Michel': 48, 'Zico': 57, 'Ana': 39}\n"
     ]
    }
   ],
   "source": [
    "#Dicionário de alunos e notas\n",
    "dictAlunos = {'Bob':86, 'Michel': 48, 'Zico': 57, 'Ana':39}\n",
    "\n",
    "#Criamos um novo dicionário imprimindo os pares de chave:valor\n",
    "dictAlunosStatus = {k:v for (k , v) in dictAlunos.items()}\n",
    "print(dictAlunosStatus)"
   ]
  },
  {
   "cell_type": "code",
   "execution_count": 10,
   "id": "0a253099",
   "metadata": {},
   "outputs": [
    {
     "name": "stdout",
     "output_type": "stream",
     "text": [
      "{'Bob': 'Aprovado', 'Michel': 'Reprovado', 'Zico': 'Reprovado', 'Ana': 'Reprovado'}\n"
     ]
    }
   ],
   "source": [
    "dictAlunos = {'Bob':86, 'Michel': 48, 'Zico': 57, 'Ana':39}\n",
    "\n",
    "dictAlunosStatus = {k: ('Aprovado' if v > 70 else 'Reprovado')\n",
    "                    for (k,v) in dictAlunos.items()}\n",
    "print(dictAlunosStatus)\n"
   ]
  }
 ],
 "metadata": {
  "kernelspec": {
   "display_name": "Python 3 (ipykernel)",
   "language": "python",
   "name": "python3"
  },
  "language_info": {
   "codemirror_mode": {
    "name": "ipython",
    "version": 3
   },
   "file_extension": ".py",
   "mimetype": "text/x-python",
   "name": "python",
   "nbconvert_exporter": "python",
   "pygments_lexer": "ipython3",
   "version": "3.9.13"
  }
 },
 "nbformat": 4,
 "nbformat_minor": 5
}
