{
 "cells": [
  {
   "cell_type": "code",
   "execution_count": 13,
   "id": "c1ddb380",
   "metadata": {},
   "outputs": [
    {
     "name": "stdout",
     "output_type": "stream",
     "text": [
      "Whats your age? 12\n",
      "You need the your parents.\n"
     ]
    }
   ],
   "source": [
    "age = int(input(\"Whats your age? \"))\n",
    "if age < 13:\n",
    "    print(\"You need the your parents.\")\n",
    "else:\n",
    "    print(\"Go for next steps\")"
   ]
  },
  {
   "cell_type": "code",
   "execution_count": 17,
   "id": "3a3d8916",
   "metadata": {},
   "outputs": [],
   "source": [
    "import math\n",
    "\n",
    "def numprime(num):\n",
    "    if (num % 2) == 0 and num > 2:\n",
    "        return \"this Number isn't prime\"\n",
    "    for i in range (3, int(math.sqrt(num)) + 1,2):\n",
    "        if (num % i) == 0:\n",
    "            return \"this number isn't prime\"\n",
    "    return \"This number is prime\""
   ]
  },
  {
   "cell_type": "code",
   "execution_count": 18,
   "id": "20593139",
   "metadata": {},
   "outputs": [
    {
     "data": {
      "text/plain": [
       "\"this number isn't prime\""
      ]
     },
     "execution_count": 18,
     "metadata": {},
     "output_type": "execute_result"
    }
   ],
   "source": [
    "numprime(2345)"
   ]
  },
  {
   "cell_type": "code",
   "execution_count": 19,
   "id": "1b61f3d4",
   "metadata": {},
   "outputs": [
    {
     "data": {
      "text/plain": [
       "'This number is prime'"
      ]
     },
     "execution_count": 19,
     "metadata": {},
     "output_type": "execute_result"
    }
   ],
   "source": [
    "numprime(541)"
   ]
  }
 ],
 "metadata": {
  "kernelspec": {
   "display_name": "Python 3 (ipykernel)",
   "language": "python",
   "name": "python3"
  },
  "language_info": {
   "codemirror_mode": {
    "name": "ipython",
    "version": 3
   },
   "file_extension": ".py",
   "mimetype": "text/x-python",
   "name": "python",
   "nbconvert_exporter": "python",
   "pygments_lexer": "ipython3",
   "version": "3.9.13"
  }
 },
 "nbformat": 4,
 "nbformat_minor": 5
}
