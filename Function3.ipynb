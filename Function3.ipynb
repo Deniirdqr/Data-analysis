{
 "cells": [
  {
   "cell_type": "code",
   "execution_count": null,
   "id": "1984eee0",
   "metadata": {},
   "outputs": [],
   "source": [
    "def countnumberpar(list1):\n",
    "    for i in list1:\n",
    "        list2.append(int(i))\n",
    "        for number in list2:\n",
    "            if number % 2 == 0:\n",
    "                list2 = list.append(i)\n",
    "    return list2"
   ]
  },
  {
   "cell_type": "code",
   "execution_count": null,
   "id": "2dc63d6f",
   "metadata": {},
   "outputs": [],
   "source": [
    "n = int(input('Digite a quantidade de valores: '))"
   ]
  },
  {
   "cell_type": "code",
   "execution_count": null,
   "id": "f7a3e37c",
   "metadata": {},
   "outputs": [],
   "source": [
    "n = int(input('Digite a quantidade de valores: '))"
   ]
  }
 ],
 "metadata": {
  "kernelspec": {
   "display_name": "Python 3 (ipykernel)",
   "language": "python",
   "name": "python3"
  },
  "language_info": {
   "codemirror_mode": {
    "name": "ipython",
    "version": 3
   },
   "file_extension": ".py",
   "mimetype": "text/x-python",
   "name": "python",
   "nbconvert_exporter": "python",
   "pygments_lexer": "ipython3",
   "version": "3.9.13"
  }
 },
 "nbformat": 4,
 "nbformat_minor": 5
}
