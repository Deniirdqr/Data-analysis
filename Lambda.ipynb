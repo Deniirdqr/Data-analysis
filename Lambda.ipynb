{
 "cells": [
  {
   "cell_type": "code",
   "execution_count": 26,
   "id": "22aa026a",
   "metadata": {},
   "outputs": [],
   "source": [
    "def potencia(num):\n",
    "    return num ** 2"
   ]
  },
  {
   "cell_type": "code",
   "execution_count": 29,
   "id": "48f91bbd",
   "metadata": {},
   "outputs": [
    {
     "data": {
      "text/plain": [
       "16"
      ]
     },
     "execution_count": 29,
     "metadata": {},
     "output_type": "execute_result"
    }
   ],
   "source": [
    "potencia(4)"
   ]
  },
  {
   "cell_type": "code",
   "execution_count": 42,
   "id": "3fb5cd06",
   "metadata": {},
   "outputs": [],
   "source": [
    "#Define a função de forma simples\n",
    "def potencia(num) : return num ** 2"
   ]
  },
  {
   "cell_type": "code",
   "execution_count": 35,
   "id": "4c31e524",
   "metadata": {},
   "outputs": [
    {
     "data": {
      "text/plain": [
       "True"
      ]
     },
     "execution_count": 35,
     "metadata": {},
     "output_type": "execute_result"
    }
   ],
   "source": [
    "potencia(4)"
   ]
  },
  {
   "cell_type": "code",
   "execution_count": 40,
   "id": "2d4b6da6",
   "metadata": {},
   "outputs": [],
   "source": [
    "#Define uma função sem precisar atribuir um nome\n",
    "potencia = lambda num : num ** 2"
   ]
  },
  {
   "cell_type": "code",
   "execution_count": 41,
   "id": "68bae616",
   "metadata": {},
   "outputs": [
    {
     "data": {
      "text/plain": [
       "25"
      ]
     },
     "execution_count": 41,
     "metadata": {},
     "output_type": "execute_result"
    }
   ],
   "source": [
    "potencia(5)"
   ]
  },
  {
   "cell_type": "code",
   "execution_count": 44,
   "id": "4efc3fbb",
   "metadata": {},
   "outputs": [],
   "source": [
    "#O que está após os dois pontos é a expressão lógica condicional\n",
    "par = lambda num: num %  2 == 0"
   ]
  },
  {
   "cell_type": "code",
   "execution_count": 46,
   "id": "fc6d6348",
   "metadata": {},
   "outputs": [
    {
     "data": {
      "text/plain": [
       "True"
      ]
     },
     "execution_count": 46,
     "metadata": {},
     "output_type": "execute_result"
    }
   ],
   "source": [
    "par(2)"
   ]
  },
  {
   "cell_type": "code",
   "execution_count": null,
   "id": "13708235",
   "metadata": {},
   "outputs": [],
   "source": [
    "first = lambda s : s[0]"
   ]
  },
  {
   "cell_type": "code",
   "execution_count": null,
   "id": "411ab962",
   "metadata": {},
   "outputs": [],
   "source": [
    "reverse = lambda s : s[::-1]"
   ]
  },
  {
   "cell_type": "code",
   "execution_count": 47,
   "id": "d2a4b37d",
   "metadata": {},
   "outputs": [],
   "source": [
    "addNum = lambda x,y : x + y"
   ]
  },
  {
   "cell_type": "code",
   "execution_count": 48,
   "id": "8eb9f357",
   "metadata": {},
   "outputs": [
    {
     "data": {
      "text/plain": [
       "5"
      ]
     },
     "execution_count": 48,
     "metadata": {},
     "output_type": "execute_result"
    }
   ],
   "source": [
    "addNum(2,3)"
   ]
  }
 ],
 "metadata": {
  "kernelspec": {
   "display_name": "Python 3 (ipykernel)",
   "language": "python",
   "name": "python3"
  },
  "language_info": {
   "codemirror_mode": {
    "name": "ipython",
    "version": 3
   },
   "file_extension": ".py",
   "mimetype": "text/x-python",
   "name": "python",
   "nbconvert_exporter": "python",
   "pygments_lexer": "ipython3",
   "version": "3.9.13"
  }
 },
 "nbformat": 4,
 "nbformat_minor": 5
}
