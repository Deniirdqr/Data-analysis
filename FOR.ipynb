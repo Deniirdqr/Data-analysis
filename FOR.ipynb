{
 "cells": [
  {
   "cell_type": "code",
   "execution_count": 2,
   "id": "ead876fd",
   "metadata": {},
   "outputs": [
    {
     "name": "stdout",
     "output_type": "stream",
     "text": [
      "\n",
      " 0\n",
      "\n",
      " 1\n",
      "\n",
      " 2\n",
      "\n",
      "--------------\n",
      "\n",
      " 0\n",
      "\n",
      " 2\n",
      "\n",
      " 4\n",
      "\n",
      "--------------\n",
      "\n",
      " 0\n",
      "\n",
      " 3\n",
      "\n",
      " 6\n",
      "\n",
      "--------------\n",
      "\n",
      " 0\n",
      "\n",
      " 4\n",
      "\n",
      " 8\n",
      "\n",
      "--------------\n"
     ]
    }
   ],
   "source": [
    "list1=[1,2,3,4]\n",
    "list2=[0,1,2]\n",
    "for element_list1 in list1:\n",
    "    for element_list2 in list2:\n",
    "        print('\\n', element_list1 * element_list2)\n",
    "    print('\\n' '--------------')"
   ]
  },
  {
   "cell_type": "code",
   "execution_count": 6,
   "id": "9bd2c327",
   "metadata": {},
   "outputs": [
    {
     "name": "stdout",
     "output_type": "stream",
     "text": [
      "30\n"
     ]
    }
   ],
   "source": [
    "list1=[1,5,6,4,8]\n",
    "list2=[3,4,1,9,8]\n",
    "soma=0\n",
    "\n",
    "for list in [list1, list2]:\n",
    "    for num in list:\n",
    "        if num % 2 ==0:\n",
    "            soma += num\n",
    "print(soma)"
   ]
  },
  {
   "cell_type": "code",
   "execution_count": 7,
   "id": "ea4b38ce",
   "metadata": {},
   "outputs": [
    {
     "data": {
      "text/plain": [
       "[1, 5, 6, 4, 8, 3, 4, 1, 9, 8]"
      ]
     },
     "execution_count": 7,
     "metadata": {},
     "output_type": "execute_result"
    }
   ],
   "source": [
    "list1 + list2"
   ]
  },
  {
   "cell_type": "code",
   "execution_count": 11,
   "id": "d8b51bf7",
   "metadata": {},
   "outputs": [
    {
     "name": "stdout",
     "output_type": "stream",
     "text": [
      "large Numer is:  128\n"
     ]
    }
   ],
   "source": [
    "matriz = [[22,23,55,61], [5,24,51,87,88], [115,12.4,128,32,9]]\n",
    "number_large = 0\n",
    "\n",
    "for lista in matriz:\n",
    "    for num in lista:\n",
    "        if num > number_large:\n",
    "            number_large = num\n",
    "\n",
    "print(\"large Numer is: \", number_large)"
   ]
  },
  {
   "cell_type": "code",
   "execution_count": 12,
   "id": "692416e3",
   "metadata": {},
   "outputs": [
    {
     "name": "stdout",
     "output_type": "stream",
     "text": [
      "k1\n",
      "k2\n",
      "k\n"
     ]
    }
   ],
   "source": [
    "dicionary = {'k1': 'python', 'k2': 'sql', 'k': 'powerBI'}\n",
    "for item in dicionary:\n",
    "    print(item)"
   ]
  },
  {
   "cell_type": "code",
   "execution_count": 14,
   "id": "5a1bcb76",
   "metadata": {},
   "outputs": [
    {
     "name": "stdout",
     "output_type": "stream",
     "text": [
      "k1 python\n",
      "k2 sql\n",
      "k powerBI\n"
     ]
    }
   ],
   "source": [
    "for k,v in dicionary.items():\n",
    "    print(k,v)"
   ]
  },
  {
   "cell_type": "code",
   "execution_count": null,
   "id": "9dd6a54c",
   "metadata": {},
   "outputs": [],
   "source": []
  }
 ],
 "metadata": {
  "kernelspec": {
   "display_name": "Python 3 (ipykernel)",
   "language": "python",
   "name": "python3"
  },
  "language_info": {
   "codemirror_mode": {
    "name": "ipython",
    "version": 3
   },
   "file_extension": ".py",
   "mimetype": "text/x-python",
   "name": "python",
   "nbconvert_exporter": "python",
   "pygments_lexer": "ipython3",
   "version": "3.9.13"
  }
 },
 "nbformat": 4,
 "nbformat_minor": 5
}
