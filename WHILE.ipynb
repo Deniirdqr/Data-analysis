{
 "cells": [
  {
   "cell_type": "code",
   "execution_count": 1,
   "id": "31f908b7",
   "metadata": {},
   "outputs": [
    {
     "name": "stdout",
     "output_type": "stream",
     "text": [
      "0\n",
      "1\n",
      "2\n",
      "3\n",
      "4\n",
      "5\n",
      "6\n",
      "7\n",
      "8\n",
      "9\n"
     ]
    }
   ],
   "source": [
    "value = 0\n",
    "while value < 10:\n",
    "    print (value)\n",
    "    value = value + 1"
   ]
  },
  {
   "cell_type": "code",
   "execution_count": 10,
   "id": "2aadf692",
   "metadata": {},
   "outputs": [],
   "source": [
    "value = 11\n",
    "\n",
    "while value < 10:\n",
    "    print(value)\n",
    "    value = value + 1"
   ]
  },
  {
   "cell_type": "code",
   "execution_count": 14,
   "id": "e88b100c",
   "metadata": {},
   "outputs": [
    {
     "name": "stdout",
     "output_type": "stream",
     "text": [
      "O valor de value nesta iteração é:  0\n",
      "value é menor que 10, somando a value\n",
      "O valor de value nesta iteração é:  1\n",
      "value é menor que 10, somando a value\n",
      "O valor de value nesta iteração é:  2\n",
      "value é menor que 10, somando a value\n",
      "O valor de value nesta iteração é:  3\n",
      "value é menor que 10, somando a value\n",
      "O valor de value nesta iteração é:  4\n",
      "value é menor que 10, somando a value\n",
      "O valor de value nesta iteração é:  5\n",
      "value é menor que 10, somando a value\n",
      "O valor de value nesta iteração é:  6\n",
      "value é menor que 10, somando a value\n",
      "O valor de value nesta iteração é:  7\n",
      "value é menor que 10, somando a value\n",
      "O valor de value nesta iteração é:  8\n",
      "value é menor que 10, somando a value\n",
      "O valor de value nesta iteração é:  9\n",
      "value é menor que 10, somando a value\n",
      "end Loop\n",
      "10\n"
     ]
    }
   ],
   "source": [
    "value = 0\n",
    "\n",
    "while value < 10:\n",
    "    print('O valor de value nesta iteração é: ', value)\n",
    "    print(\"value é menor que 10, somando a value\")\n",
    "    value += 1\n",
    "else:\n",
    "    print(\"end Loop\")\n",
    "print(value)"
   ]
  },
  {
   "cell_type": "code",
   "execution_count": 15,
   "id": "69059f2c",
   "metadata": {},
   "outputs": [
    {
     "name": "stdout",
     "output_type": "stream",
     "text": [
      "0\n",
      "1\n",
      "2\n",
      "3\n"
     ]
    }
   ],
   "source": [
    "value = 0\n",
    "while value < 10:\n",
    "    if value == 4:\n",
    "        break\n",
    "    else:\n",
    "        print(value)\n",
    "        value = value + 1"
   ]
  },
  {
   "cell_type": "code",
   "execution_count": 16,
   "id": "a12d97e0",
   "metadata": {},
   "outputs": [
    {
     "name": "stdout",
     "output_type": "stream",
     "text": [
      "p\n",
      "y\n",
      "t\n",
      "h\n",
      "o\n",
      "n\n",
      " \n",
      "é\n",
      " \n",
      " \n",
      "i\n",
      "n\n",
      "c\n",
      "r\n",
      "i\n",
      "v\n",
      "e\n",
      "l\n",
      "!\n"
     ]
    }
   ],
   "source": [
    "for letra in \"python é zzz incrivel!\":\n",
    "    if letra == \"z\":\n",
    "        continue\n",
    "    print(letra)"
   ]
  },
  {
   "cell_type": "code",
   "execution_count": null,
   "id": "a57e4392",
   "metadata": {},
   "outputs": [],
   "source": []
  }
 ],
 "metadata": {
  "kernelspec": {
   "display_name": "Python 3 (ipykernel)",
   "language": "python",
   "name": "python3"
  },
  "language_info": {
   "codemirror_mode": {
    "name": "ipython",
    "version": 3
   },
   "file_extension": ".py",
   "mimetype": "text/x-python",
   "name": "python",
   "nbconvert_exporter": "python",
   "pygments_lexer": "ipython3",
   "version": "3.9.13"
  }
 },
 "nbformat": 4,
 "nbformat_minor": 5
}
