{
 "cells": [
  {
   "cell_type": "code",
   "execution_count": 8,
   "id": "437d79ba",
   "metadata": {},
   "outputs": [
    {
     "name": "stdout",
     "output_type": "stream",
     "text": [
      "Calculadora Original\n",
      "digite o primeiro número da operação: 5\n",
      "* Para Multiplicação\n",
      "/ Para Divisão\n",
      "+ Para Soma\n",
      "- Para Subtração\n",
      "digite o tipo da operação que deseja de acordo com menu acima: *\n",
      "digite o segundo número da operação: 10\n",
      "Resultado  50\n"
     ]
    }
   ],
   "source": [
    "def operation(fNumber,sNumber, opAritimética):\n",
    "    \n",
    "    def divide(fNumber,sNumber):\n",
    "        result = fNumber / sNumber\n",
    "        return print(f\"Resultado  {result}\")\n",
    "\n",
    "    def multiplication(fNumber,sNumber):\n",
    "        result = fNumber * sNumber\n",
    "        return print(f\"Resultado  {result}\")\n",
    "\n",
    "    def sumx(fNumber,sNumber):\n",
    "        result = fNumber + sNumber\n",
    "        return print(f\"Resultado  {result}\")\n",
    "\n",
    "    def subtraction(fNumber,sNumber):\n",
    "        result = fNumber - sNumber\n",
    "        return print(f\"Resultado  {result}\")\n",
    "    \n",
    "    if opAritimética == '*':\n",
    "        result = multiplication(fNumber,sNumber),\n",
    "        \n",
    "    elif opAritimética == '/':\n",
    "        result = divide(fNumber,sNumber),\n",
    "        \n",
    "    elif opAritimética == '+':\n",
    "        result = sumx(fNumber,sNumber),\n",
    "        \n",
    "    elif opAritimética == '-':\n",
    "        result = subtraction(fNumber,sNumber),\n",
    "\n",
    "print(\"Calculadora Original\")\n",
    "firstNumber = int(input(\"digite o primeiro número da operação: \"))\n",
    "print(\"* Para Multiplicação\")\n",
    "print(\"/ Para Divisão\")\n",
    "print(\"+ Para Soma\")\n",
    "print(\"- Para Subtração\")\n",
    "opSignal = str(input(\"digite o tipo da operação que deseja de acordo com menu acima: \"))\n",
    "secondNumber = int(input(\"digite o segundo número da operação: \"))\n",
    "operation(firstNumber, secondNumber, opSignal)"
   ]
  },
  {
   "cell_type": "code",
   "execution_count": null,
   "id": "58d50312",
   "metadata": {},
   "outputs": [],
   "source": []
  }
 ],
 "metadata": {
  "kernelspec": {
   "display_name": "Python 3 (ipykernel)",
   "language": "python",
   "name": "python3"
  },
  "language_info": {
   "codemirror_mode": {
    "name": "ipython",
    "version": 3
   },
   "file_extension": ".py",
   "mimetype": "text/x-python",
   "name": "python",
   "nbconvert_exporter": "python",
   "pygments_lexer": "ipython3",
   "version": "3.9.13"
  }
 },
 "nbformat": 4,
 "nbformat_minor": 5
}
