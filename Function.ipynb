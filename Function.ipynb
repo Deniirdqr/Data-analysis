{
 "cells": [
  {
   "cell_type": "code",
   "execution_count": 1,
   "id": "08518110",
   "metadata": {},
   "outputs": [
    {
     "name": "stdout",
     "output_type": "stream",
     "text": [
      "Hello World\n"
     ]
    }
   ],
   "source": [
    "print('Hello World')"
   ]
  },
  {
   "cell_type": "code",
   "execution_count": 3,
   "id": "563289e8",
   "metadata": {},
   "outputs": [],
   "source": [
    "def primefrase():\n",
    "    print('Hello World')"
   ]
  },
  {
   "cell_type": "code",
   "execution_count": 4,
   "id": "016ee675",
   "metadata": {},
   "outputs": [
    {
     "name": "stdout",
     "output_type": "stream",
     "text": [
      "Hello World\n"
     ]
    }
   ],
   "source": [
    "primefrase()"
   ]
  },
  {
   "cell_type": "code",
   "execution_count": 16,
   "id": "9be48594",
   "metadata": {},
   "outputs": [],
   "source": [
    "def secondfrase():\n",
    "    name = 'Bob'\n",
    "    print('Hello %s Esponja'%(name))"
   ]
  },
  {
   "cell_type": "code",
   "execution_count": 17,
   "id": "2339272c",
   "metadata": {},
   "outputs": [
    {
     "name": "stdout",
     "output_type": "stream",
     "text": [
      "Hello Bob Esponja\n"
     ]
    }
   ],
   "source": [
    "secondfrase()"
   ]
  },
  {
   "cell_type": "code",
   "execution_count": 18,
   "id": "8a3216c2",
   "metadata": {},
   "outputs": [],
   "source": [
    "def parameterfunction(name):\n",
    "    print('Hello %s' %(name))"
   ]
  },
  {
   "cell_type": "code",
   "execution_count": 20,
   "id": "ca277751",
   "metadata": {},
   "outputs": [
    {
     "name": "stdout",
     "output_type": "stream",
     "text": [
      "Hello DQR\n"
     ]
    }
   ],
   "source": [
    "parameterfunction('DQR')"
   ]
  },
  {
   "cell_type": "code",
   "execution_count": null,
   "id": "ec8113b7",
   "metadata": {},
   "outputs": [],
   "source": []
  }
 ],
 "metadata": {
  "kernelspec": {
   "display_name": "Python 3 (ipykernel)",
   "language": "python",
   "name": "python3"
  },
  "language_info": {
   "codemirror_mode": {
    "name": "ipython",
    "version": 3
   },
   "file_extension": ".py",
   "mimetype": "text/x-python",
   "name": "python",
   "nbconvert_exporter": "python",
   "pygments_lexer": "ipython3",
   "version": "3.9.13"
  }
 },
 "nbformat": 4,
 "nbformat_minor": 5
}
